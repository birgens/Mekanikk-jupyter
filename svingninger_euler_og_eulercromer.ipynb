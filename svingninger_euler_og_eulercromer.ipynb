{
 "cells": [
  {
   "cell_type": "code",
   "execution_count": 3,
   "metadata": {},
   "outputs": [],
   "source": [
    "import numpy as np\n",
    "import matplotlib.pyplot as plt"
   ]
  },
  {
   "cell_type": "markdown",
   "metadata": {},
   "source": [
    "## Undersøke forskjellen mellom Euler og Euler-Cromer\n",
    "\n",
    "I denne oppgaven skal du undersøke forskjellen mellom Euler og Euler-Cromers metode ved å simulere en harmonisk oscillator med følgende parametre:"
   ]
  },
  {
   "cell_type": "code",
   "execution_count": 4,
   "metadata": {},
   "outputs": [],
   "source": [
    "m = 1  # kg\n",
    "k = 10 # N/m\n",
    "x0 = 0.5 # m\n",
    "v0 = 0 # m/s"
   ]
  },
  {
   "cell_type": "markdown",
   "metadata": {},
   "source": [
    "Eulers metode for å løse bevegelsesligningen er \n",
    "$$\\vec{v}_i=\\vec{v}_{i-1}+\\vec{a}\\Delta t$$\n",
    "$$\\vec{r}_i=\\vec{r}_{i-1}+\\vec{v}_{i-1}\\Delta t$$\n",
    "mens Euler-Cromers metode er   \n",
    "$$\\vec{v}_i=\\vec{v}_{i-1}+\\vec{a}\\Delta t$$\n",
    "$$\\vec{r}_i=\\vec{r}_{i-1}+\\vec{v}_{i}\\Delta t$$ \n",
    "\n",
    "a. Implementer Eulers metode for å finne $x(t)$ og $v(t)$ med tidssteg på $0.1~\\mathrm{s}$ over et tidsintervall på 4 sekunder."
   ]
  },
  {
   "cell_type": "code",
   "execution_count": null,
   "metadata": {},
   "outputs": [],
   "source": []
  },
  {
   "cell_type": "markdown",
   "metadata": {},
   "source": [
    "b. Plott den kinetiske, potensielle og totale energien. "
   ]
  },
  {
   "cell_type": "code",
   "execution_count": null,
   "metadata": {},
   "outputs": [],
   "source": []
  },
  {
   "cell_type": "markdown",
   "metadata": {},
   "source": [
    "c. Gjør det samme med tidssteg på $0.01~\\mathrm{s}$ og kommenter resultatet"
   ]
  },
  {
   "cell_type": "code",
   "execution_count": null,
   "metadata": {},
   "outputs": [],
   "source": []
  },
  {
   "cell_type": "markdown",
   "metadata": {},
   "source": [
    "d. Gjenta a-c med Euler-Cromers metode"
   ]
  },
  {
   "cell_type": "code",
   "execution_count": null,
   "metadata": {},
   "outputs": [],
   "source": []
  },
  {
   "cell_type": "markdown",
   "metadata": {},
   "source": [
    "e. Nå har du sett både Euler og Euler-Cromers metode i aksjon. Drøft fordeler/ulemper ved valg av metode og tidssteg."
   ]
  },
  {
   "cell_type": "markdown",
   "metadata": {},
   "source": []
  }
 ],
 "metadata": {
  "kernelspec": {
   "display_name": "Python 3",
   "language": "python",
   "name": "python3"
  },
  "language_info": {
   "codemirror_mode": {
    "name": "ipython",
    "version": 3
   },
   "file_extension": ".py",
   "mimetype": "text/x-python",
   "name": "python",
   "nbconvert_exporter": "python",
   "pygments_lexer": "ipython3",
   "version": "3.6.4"
  }
 },
 "nbformat": 4,
 "nbformat_minor": 2
}
